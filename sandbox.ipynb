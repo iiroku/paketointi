{
 "cells": [
  {
   "cell_type": "markdown",
   "metadata": {},
   "source": [
    "# Paketoinnin automatisointia"
   ]
  },
  {
   "cell_type": "markdown",
   "metadata": {},
   "source": [
    "## TODO\n",
    "* Tarkista kansion tiedostot\n",
    "* luo odotettavat tiedostonimet / kansiorakenne\n",
    "* etsi lähin vastaavuus tiedostoista\n",
    "* Jos ei ole täsmälleen samannimistä, kysy \"onko tämä\" ja korvataanko nimi oletetulla nimellä\n",
    "* siirrä oikeaan kansioon kansioon\n",
    "* Tee vertailut, että fau, xtf ja gsf on yhtä monta\n",
    "* poista kansion nimestä x, kun kansiossa on kaikki tarpeellinen\n",
    "* printtaa lopuksi syntynyt kansiorakenne\n",
    "    * linjojen kanssa printtaa 1-2 nimeä ja sitten lukumäärä\n",
    "    * printtaa vihreällä ok-kansiot ja punaisella puutteelliset"
   ]
  },
  {
   "cell_type": "markdown",
   "metadata": {},
   "source": [
    "## Puun printtaus"
   ]
  },
  {
   "cell_type": "code",
   "execution_count": 22,
   "metadata": {},
   "outputs": [],
   "source": [
    "import os\n",
    "\n",
    "def print_tree(directory, prefix=\"\"):\n",
    "    \"\"\"\n",
    "    Tulostaa hakemistorakenteen puumaisessa muodossa.\n",
    "    \n",
    "    :param directory: Polku hakemistoon, joka tulostetaan.\n",
    "    :param prefix: Merkkijono, joka lisätään ennen nykyistä tasoa (käytetään sisennyksenä).\n",
    "    \"\"\"\n",
    "    try:\n",
    "        # Listaa kaikki tiedostot ja alihakemistot\n",
    "        entries = sorted(os.listdir(directory))\n",
    "    except PermissionError:\n",
    "        print(f\"{prefix}[Permission Denied]\")\n",
    "        return\n",
    "\n",
    "    for i, entry in enumerate(entries):\n",
    "        path = os.path.join(directory, entry)\n",
    "        connector = \"└── \" if i == len(entries) - 1 else \"├── \"\n",
    "        print(f\"{prefix}{connector}{entry}\")\n",
    "\n",
    "        if os.path.isdir(path):\n",
    "            # Jos kyseessä on hakemisto, toistetaan funktio\n",
    "            new_prefix = \"    \" if i == len(entries) - 1 else \"│   \"\n",
    "            print_tree(path, prefix + new_prefix)\n"
   ]
  },
  {
   "cell_type": "code",
   "execution_count": 23,
   "metadata": {},
   "outputs": [],
   "source": [
    "def winapi_path(dos_path, encoding=None):\n",
    "    \"\"\"\n",
    "    Tiedostopolkujen maksimipituus on windowsissa 256. Tällä funktiolla saadaan pidennettyä.\n",
    "    Ilman tätä Traficomin kansiorakenteet ovat usein liian pitkiä ja suoritus kaatuu.\n",
    "    \"\"\"\n",
    "    if (not isinstance(dos_path, str) and encoding is not None): \n",
    "        dos_path = dos_path.decode(encoding)\n",
    "    path = os.path.abspath(dos_path)\n",
    "    if path.startswith(u\"\\\\\\\\\"):\n",
    "        return u\"\\\\\\\\?\\\\UNC\\\\\" + path[2:]\n",
    "    return u\"\\\\\\\\?\\\\\" + path"
   ]
  },
  {
   "cell_type": "code",
   "execution_count": 24,
   "metadata": {},
   "outputs": [
    {
     "name": "stdout",
     "output_type": "stream",
     "text": [
      ".\n",
      "\\\\?\\c:\\Users\\kuusistoi\\Documents\\Koodit\\paketointi\n"
     ]
    }
   ],
   "source": [
    "root_dir = input(\"Anna hakemiston polku (oletus: nykyinen hakemisto): \") or \".\"\n",
    "print(root_dir)\n",
    "print(winapi_path(root_dir))"
   ]
  },
  {
   "cell_type": "code",
   "execution_count": 25,
   "metadata": {},
   "outputs": [
    {
     "name": "stdout",
     "output_type": "stream",
     "text": [
      "Kansion rakenne: C:\\Users\\kuusistoi\\Documents\\x APVA2024_A_M640_A01-A03_A05\n",
      "\n",
      "├── x APVA2024_A_M640_DOCUMENTATION_A01-A03_A05\n",
      "│   ├── x BS_image_A01-A03_A05\n",
      "│   ├── x Cell_report_inc._charlet_of_surveyd_area_A01-A03_A05\n",
      "│   ├── x Daily_logs_A01-A03_A05\n",
      "│   ├── x Depth_colored_Geotiff_A01-A03_A05\n",
      "│   ├── x Draft_logs_A01-A03_A05\n",
      "│   ├── x Index_map_of_surveyed_areas_A01-A03_A05\n",
      "│   ├── x Index_of_Survey_lines_A01-A03_A05\n",
      "│   ├── x Navigational_hazards_A01-A03_A05\n",
      "│   ├── x Positioning_control_report_A01-A03_A05\n",
      "│   ├── x Processing_log_A01-A03_A05\n",
      "│   ├── x QC_report_A01-A03_A05\n",
      "│   │   ├── x APVA2024_A_M640_Laadunvalvontaraportti_LIITTEET_A01\n",
      "│   │   ├── x APVA2024_A_M640_Laadunvalvontaraportti_LIITTEET_A02\n",
      "│   │   ├── x APVA2024_A_M640_Laadunvalvontaraportti_LIITTEET_A03\n",
      "│   │   └── x APVA2024_A_M640_Laadunvalvontaraportti_LIITTEET_A05\n",
      "│   ├── x SVP_overview_A01-A03_A05\n",
      "│   ├── x Tide_logs_and_reports_A01-A03_A05\n",
      "│   └── x Wreck_reports_A01-A03_A05\n",
      "├── x APVA2024_A_M640_Final_DATA_MBES_A01-A03_A05\n",
      "│   ├── x APVA2024_A_M640_FAU_A01\n",
      "│   │   ├── x Crossline_data\n",
      "│   │   ├── x Main_data_and_infill_data\n",
      "│   │   └── x Wreck_lines\n",
      "│   ├── x APVA2024_A_M640_FAU_A02\n",
      "│   │   ├── x Crossline_data\n",
      "│   │   ├── x Main_data_and_infill_data\n",
      "│   │   └── x Wreck_lines\n",
      "│   ├── x APVA2024_A_M640_FAU_A03\n",
      "│   │   ├── x Crossline_data\n",
      "│   │   ├── x Main_data_and_infill_data\n",
      "│   │   └── x Wreck_lines\n",
      "│   └── x APVA2024_A_M640_FAU_A05\n",
      "│       ├── x Crossline_data\n",
      "│       ├── x Main_data_and_infill_data\n",
      "│       └── x Wreck_lines\n",
      "└── x APVA2024_A_M640_Other_DATA_MBES_A01-A03_A05\n",
      "    ├── x APVA2024_A_M640_MBES_Raw_data_A01-A03_A05\n",
      "    │   ├── x APVA2024_A_M640_GSF_A01-A03_A05\n",
      "    │   │   ├── x APVA2024_A_M640_GSF_A01\n",
      "    │   │   ├── x APVA2024_A_M640_GSF_A02\n",
      "    │   │   ├── x APVA2024_A_M640_GSF_A03\n",
      "    │   │   └── x APVA2024_A_M640_GSF_A05\n",
      "    │   └── x APVA2024_A_M640_XTF_A01-A03_A05\n",
      "    │       ├── x APVA2024_A_M640_XTF_A1\n",
      "    │       ├── x APVA2024_A_M640_XTF_A2\n",
      "    │       ├── x APVA2024_A_M640_XTF_A3\n",
      "    │       └── x APVA2024_A_M640_XTF_A5\n",
      "    └── x APVA2024_A_M640_Rinex_A01-A03_A05\n",
      "        ├── x APVA2024_A_M640_Rinex_A01\n",
      "        ├── x APVA2024_A_M640_Rinex_A02\n",
      "        ├── x APVA2024_A_M640_Rinex_A03\n",
      "        └── x APVA2024_A_M640_Rinex_A05\n"
     ]
    }
   ],
   "source": [
    "# Pyydä käyttäjältä hakemisto tai käytä nykyistä hakemistoa\n",
    "root_dir = input(\"Anna hakemiston polku (oletus: nykyinen hakemisto): \") or \".\"\n",
    "print(f\"Kansion rakenne: {os.path.abspath(root_dir)}\\n\")\n",
    "print_tree(winapi_path(root_dir))"
   ]
  },
  {
   "cell_type": "code",
   "execution_count": null,
   "metadata": {},
   "outputs": [],
   "source": []
  },
  {
   "cell_type": "code",
   "execution_count": null,
   "metadata": {},
   "outputs": [],
   "source": []
  },
  {
   "cell_type": "code",
   "execution_count": null,
   "metadata": {},
   "outputs": [],
   "source": []
  }
 ],
 "metadata": {
  "kernelspec": {
   "display_name": ".venv",
   "language": "python",
   "name": "python3"
  },
  "language_info": {
   "codemirror_mode": {
    "name": "ipython",
    "version": 3
   },
   "file_extension": ".py",
   "mimetype": "text/x-python",
   "name": "python",
   "nbconvert_exporter": "python",
   "pygments_lexer": "ipython3",
   "version": "3.12.7"
  }
 },
 "nbformat": 4,
 "nbformat_minor": 2
}
